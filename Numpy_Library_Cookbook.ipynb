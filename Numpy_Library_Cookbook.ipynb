{
  "nbformat": 4,
  "nbformat_minor": 0,
  "metadata": {
    "colab": {
      "provenance": [],
      "authorship_tag": "ABX9TyMcAlb6njyggjJTvezDDQJ0"
    },
    "kernelspec": {
      "name": "python3",
      "display_name": "Python 3"
    },
    "language_info": {
      "name": "python"
    }
  },
  "cells": [
    {
      "cell_type": "markdown",
      "source": [
        "# **<<< Numpy >>>**"
      ],
      "metadata": {
        "id": "KhWsoBItzTGq"
      }
    },
    {
      "cell_type": "code",
      "execution_count": 2,
      "metadata": {
        "id": "rnTvppcYtlOP"
      },
      "outputs": [],
      "source": [
        "# First we will import the numpy libary as np\n",
        "import numpy as np"
      ]
    },
    {
      "cell_type": "markdown",
      "source": [
        "## Making An Array\n"
      ],
      "metadata": {
        "id": "XHt9iKvSzjIH"
      }
    },
    {
      "cell_type": "code",
      "source": [
        "# First we define a list\n",
        "myList = [10,20,30,40,50]\n",
        "print(myList)\n",
        "type(myList)"
      ],
      "metadata": {
        "colab": {
          "base_uri": "https://localhost:8080/"
        },
        "id": "jjK3QgfIP5Kr",
        "outputId": "78312607-0b98-43ae-e4a7-f24ba8445b28"
      },
      "execution_count": 3,
      "outputs": [
        {
          "output_type": "stream",
          "name": "stdout",
          "text": [
            "[10, 20, 30, 40, 50]\n"
          ]
        },
        {
          "output_type": "execute_result",
          "data": {
            "text/plain": [
              "list"
            ]
          },
          "metadata": {},
          "execution_count": 3
        }
      ]
    },
    {
      "cell_type": "code",
      "source": [
        "# Then we can convert the list into an array using np.array() method\n",
        "myArray = np.array(myList)\n",
        "print(myArray)\n",
        "print(type(myArray))"
      ],
      "metadata": {
        "colab": {
          "base_uri": "https://localhost:8080/"
        },
        "id": "buM_6D-ISyQO",
        "outputId": "c66d0345-4f3e-4f8a-b23e-4a8814de812d"
      },
      "execution_count": 4,
      "outputs": [
        {
          "output_type": "stream",
          "name": "stdout",
          "text": [
            "[10 20 30 40 50]\n",
            "<class 'numpy.ndarray'>\n"
          ]
        }
      ]
    },
    {
      "cell_type": "code",
      "source": [
        "# We can also convert a nested list into a 3D Matrix using np.array() method\n",
        "nested_list = [[11,22,33],[44,55,66],[77,88,99]]\n",
        "my_matrix = np.array(nested_list)\n",
        "print(np.array(my_matrix))\n",
        "print(type(my_matrix))"
      ],
      "metadata": {
        "colab": {
          "base_uri": "https://localhost:8080/"
        },
        "id": "AXgdoBWsS1UO",
        "outputId": "f4065867-c8d7-4b96-e581-b9f7d1d46a22"
      },
      "execution_count": 5,
      "outputs": [
        {
          "output_type": "stream",
          "name": "stdout",
          "text": [
            "[[11 22 33]\n",
            " [44 55 66]\n",
            " [77 88 99]]\n",
            "<class 'numpy.ndarray'>\n"
          ]
        }
      ]
    },
    {
      "cell_type": "markdown",
      "source": [
        "### np.arange()"
      ],
      "metadata": {
        "id": "YX6gYXRxcpTJ"
      }
    },
    {
      "cell_type": "code",
      "source": [
        "# We can also generate n values of same differentce array using np.arange()\n",
        "myArange1 = np.arange(0,10) # np.arange(start, end)\n",
        "myArange2 = np. arange(0,101, 10) # np.arange(start, end, step)\n",
        "print(\"myArrange1 : \", myArange1)\n",
        "print(\"myArrange2 : \", myArange2)\n",
        "print(type(myArange1))"
      ],
      "metadata": {
        "colab": {
          "base_uri": "https://localhost:8080/"
        },
        "id": "-PGdEX2hVMWS",
        "outputId": "ec653a25-4501-4e8a-e3fa-fb4b3abf0d31"
      },
      "execution_count": 6,
      "outputs": [
        {
          "output_type": "stream",
          "name": "stdout",
          "text": [
            "myArrange1 :  [0 1 2 3 4 5 6 7 8 9]\n",
            "myArrange2 :  [  0  10  20  30  40  50  60  70  80  90 100]\n",
            "<class 'numpy.ndarray'>\n"
          ]
        }
      ]
    },
    {
      "cell_type": "markdown",
      "source": [
        "### np.zeros() , np.ones() , np.eye()"
      ],
      "metadata": {
        "id": "0_WBhze6cvq5"
      }
    },
    {
      "cell_type": "code",
      "source": [
        "zeroArray1 = np.zeros(10)\n",
        "zeroArray2 = np.zeros((3,5)) # np.zeros((row, column))\n",
        "oneArray = np.ones((3,5))\n",
        "eyeArray = np.eye(5) # Creates identical matrix of \"n\" column and rows\n",
        "print(\"zeroArray1 : \\n\",zeroArray1)\n",
        "print(\"zeroArray2 : \\n\",zeroArray2)\n",
        "print(\"oneArray = \\n\",oneArray)\n",
        "print(\"eyeArray = \\n\", eyeArray)"
      ],
      "metadata": {
        "colab": {
          "base_uri": "https://localhost:8080/"
        },
        "id": "ucqPW7L3cJFK",
        "outputId": "aec1330c-1611-4b6a-a841-6789390dba5e"
      },
      "execution_count": 7,
      "outputs": [
        {
          "output_type": "stream",
          "name": "stdout",
          "text": [
            "zeroArray1 : \n",
            " [0. 0. 0. 0. 0. 0. 0. 0. 0. 0.]\n",
            "zeroArray2 : \n",
            " [[0. 0. 0. 0. 0.]\n",
            " [0. 0. 0. 0. 0.]\n",
            " [0. 0. 0. 0. 0.]]\n",
            "oneArray = \n",
            " [[1. 1. 1. 1. 1.]\n",
            " [1. 1. 1. 1. 1.]\n",
            " [1. 1. 1. 1. 1.]]\n",
            "eyeArray = \n",
            " [[1. 0. 0. 0. 0.]\n",
            " [0. 1. 0. 0. 0.]\n",
            " [0. 0. 1. 0. 0.]\n",
            " [0. 0. 0. 1. 0.]\n",
            " [0. 0. 0. 0. 1.]]\n"
          ]
        }
      ]
    },
    {
      "cell_type": "markdown",
      "source": [
        "### np.linspace()"
      ],
      "metadata": {
        "id": "RGc7F82-ldaA"
      }
    },
    {
      "cell_type": "code",
      "source": [
        "myLinespace = np.linspace(0,10,11) # np.linespace(start, end, num_of_values)\n",
        "print(myLinespace)\n",
        "print(type(myLinespace)) # type of myLinespace\n",
        "print(myLinespace.dtype) # type of the values inside myLinespace"
      ],
      "metadata": {
        "colab": {
          "base_uri": "https://localhost:8080/"
        },
        "id": "tSBW3Y8_dHEe",
        "outputId": "b10ab28b-c15c-4ddb-f48c-720c61df963a"
      },
      "execution_count": 8,
      "outputs": [
        {
          "output_type": "stream",
          "name": "stdout",
          "text": [
            "[ 0.  1.  2.  3.  4.  5.  6.  7.  8.  9. 10.]\n",
            "<class 'numpy.ndarray'>\n",
            "float64\n"
          ]
        }
      ]
    },
    {
      "cell_type": "markdown",
      "source": [
        "### np.random"
      ],
      "metadata": {
        "id": "v5KngErUqvaT"
      }
    },
    {
      "cell_type": "code",
      "source": [
        "np.random.seed(42) # np.random.seed() will make the program to generate the same set of random numbers everytime I run the code snippet.\n",
        "\n",
        "# np.random.rand() generates an array of random \"uniform distribution\"(from 0 to 1) of data\n",
        "myRandom1 = np.random.rand(10) # creates an 1D Array of 10 values\n",
        "myRandom2 = np.random.rand(5,2) #np.random.rand(number_of_rows, number_of_colums)\n",
        "\n",
        "# np.random.randn() generates an array of random \"standard normal distribution\" datas\n",
        "myRandom3 = np.random.randn(5,2)\n",
        "\n",
        "# np.random.randint() genrates an array of random integer numbers. (Can be 1D or Multi-dimentional)\n",
        "myRandom4 = np.random.randint(1,11) # Generates 'SINGELE' integer number between 1 to 10\n",
        "myRandom5 = np.random.randint(1,11,5) # Generates 5 random integer number between 1 to 10\n",
        "myRandom6 = np.random.randint(1,11,(3,5)) # Generates 2-rows and 3-columns of random integer number between 1 to 10\n",
        "\n",
        "print(myRandom1) # 1D array\n",
        "print(myRandom2)\n",
        "print(\"===============================\")\n",
        "print(myRandom3)\n",
        "print(\"===============================\")\n",
        "print(myRandom4)\n",
        "print(myRandom5)\n",
        "print(myRandom6)"
      ],
      "metadata": {
        "colab": {
          "base_uri": "https://localhost:8080/"
        },
        "id": "Fyx4yJGSlqd9",
        "outputId": "ec7fddf3-6370-4eb7-fdde-80ecd2744a95"
      },
      "execution_count": 9,
      "outputs": [
        {
          "output_type": "stream",
          "name": "stdout",
          "text": [
            "[0.37454012 0.95071431 0.73199394 0.59865848 0.15601864 0.15599452\n",
            " 0.05808361 0.86617615 0.60111501 0.70807258]\n",
            "[[0.02058449 0.96990985]\n",
            " [0.83244264 0.21233911]\n",
            " [0.18182497 0.18340451]\n",
            " [0.30424224 0.52475643]\n",
            " [0.43194502 0.29122914]]\n",
            "===============================\n",
            "[[-1.01283112  0.31424733]\n",
            " [-0.90802408 -1.4123037 ]\n",
            " [ 1.46564877 -0.2257763 ]\n",
            " [ 0.0675282  -1.42474819]\n",
            " [-0.54438272  0.11092259]]\n",
            "===============================\n",
            "3\n",
            "[7 5 9 7 2]\n",
            "[[ 4  9  2 10  9]\n",
            " [10  5  2  4  7]\n",
            " [ 8  3  1  4  2]]\n"
          ]
        }
      ]
    },
    {
      "cell_type": "markdown",
      "source": [
        "### myArr.reshape()"
      ],
      "metadata": {
        "id": "GmL91pMWwVCa"
      }
    },
    {
      "cell_type": "code",
      "source": [
        "myArr = np.arange(1,51) # This creates an 1D array of numbers from 1 to 50\n",
        "print(\"This is myArr:\\n\",myArr)\n",
        "\n",
        "myReshape = myArr.reshape(5,10) # This converts the Array into 5 rows and 10 columns\n",
        "print(\"This is myReshape:\\n\",myReshape)\n",
        "\n",
        "'''\n",
        "If the .reshape() parameters multiplication result for row and column does not match\n",
        "with the total number of values in myArr, then python will trow an error.\n",
        "'''"
      ],
      "metadata": {
        "id": "FOcUqQbCq-2R",
        "colab": {
          "base_uri": "https://localhost:8080/",
          "height": 250
        },
        "outputId": "04eec41a-9466-4fcd-e0ad-aee06b395c89"
      },
      "execution_count": 10,
      "outputs": [
        {
          "output_type": "stream",
          "name": "stdout",
          "text": [
            "This is myArr:\n",
            " [ 1  2  3  4  5  6  7  8  9 10 11 12 13 14 15 16 17 18 19 20 21 22 23 24\n",
            " 25 26 27 28 29 30 31 32 33 34 35 36 37 38 39 40 41 42 43 44 45 46 47 48\n",
            " 49 50]\n",
            "This is myReshape:\n",
            " [[ 1  2  3  4  5  6  7  8  9 10]\n",
            " [11 12 13 14 15 16 17 18 19 20]\n",
            " [21 22 23 24 25 26 27 28 29 30]\n",
            " [31 32 33 34 35 36 37 38 39 40]\n",
            " [41 42 43 44 45 46 47 48 49 50]]\n"
          ]
        },
        {
          "output_type": "execute_result",
          "data": {
            "text/plain": [
              "'\\nIf the .reshape() parameters multiplication result for row and column does not match\\nwith the total number of values in myArr, then python will trow an error.\\n'"
            ],
            "application/vnd.google.colaboratory.intrinsic+json": {
              "type": "string"
            }
          },
          "metadata": {},
          "execution_count": 10
        }
      ]
    },
    {
      "cell_type": "markdown",
      "source": [
        ".max()\n",
        ".min()\n",
        ".argmax()\n",
        ".argmin()\n",
        ".shape()"
      ],
      "metadata": {
        "id": "5hYvAtZG5Gl7"
      }
    },
    {
      "cell_type": "code",
      "source": [
        "myArr = np.array([1,2,30,4,5])\n",
        "print(\"Gives the MAXIMUM value inside the array:\",myArr.max())\n",
        "print(\"Gives the MINIMUM value inside the array:\",myArr.min())\n",
        "print(\"Gives the INDEX of MAXIMUM value inside the array:\",myArr.argmax())\n",
        "print(\"Gives the INDEX of MINIMUM value inside the array:\",myArr.argmin())\n",
        "print(\"Gives the array shape:\", myArr.shape)\n",
        "# np.shape gives result like this, (row, column) when multidimentional\n",
        "# np.shape gives result like this, (no_of_values,) when one dimentional"
      ],
      "metadata": {
        "colab": {
          "base_uri": "https://localhost:8080/"
        },
        "id": "H1PW_O-8xo6z",
        "outputId": "bbe723d4-1bb6-47d4-dc4a-7da99df92741"
      },
      "execution_count": 11,
      "outputs": [
        {
          "output_type": "stream",
          "name": "stdout",
          "text": [
            "Gives the MAXIMUM value inside the array: 30\n",
            "Gives the MINIMUM value inside the array: 1\n",
            "Gives the INDEX of MAXIMUM value inside the array: 2\n",
            "Gives the INDEX of MINIMUM value inside the array: 0\n",
            "Gives the array shape: (5,)\n"
          ]
        }
      ]
    },
    {
      "cell_type": "markdown",
      "source": [
        "## Indexing and Selection"
      ],
      "metadata": {
        "id": "t-cc-_O6b-na"
      }
    },
    {
      "cell_type": "code",
      "source": [
        "# We can use indexing in numpy Array like a normal array.\n",
        "myArr = np.array([11, 22, 33, 44, 55, 66, 77, 88, 99, 111])\n",
        "print(myArr[0]) # Selecting a single item\n",
        "print(myArr[4:]) # Slicing from an index till the end\n",
        "print(myArr[:5]) # Slicing from the start till an index\n",
        "print(myArr[1:4]) # Slicing from a given index till another given index.\n",
        "print(\"============================================\")\n",
        "\n",
        "# In array we can change values of in between items.\n",
        "myArr[3:6] = 999\n",
        "print(myArr)\n",
        "print(\"============================================\")\n",
        "\n",
        "# We can grab certain part of an Array\n",
        "mySlicedArray = myArr[3:6]\n",
        "print(mySlicedArray)\n",
        "print(\"============================================\")\n",
        "\n",
        "# We can change the sliced array, but it will also effect the array we sliced from.\n",
        "mySlicedArray[:] =  666\n",
        "print(mySlicedArray)\n",
        "print(myArr)\n",
        "print(\"============================================\")\n",
        "\n",
        "# To solve this problem, we can make a copy of the sliced array, then work with it.\n",
        "myCopy = myArr[3:6].copy()\n",
        "print(myCopy)\n",
        "myCopy[:] = 8080 # Will not effect myArr\n",
        "print(myCopy)\n",
        "print(myArr)"
      ],
      "metadata": {
        "colab": {
          "base_uri": "https://localhost:8080/"
        },
        "id": "ppz8rf9GV7Fa",
        "outputId": "87e8f875-5ad6-41ad-d074-54de5f1446a8"
      },
      "execution_count": 12,
      "outputs": [
        {
          "output_type": "stream",
          "name": "stdout",
          "text": [
            "11\n",
            "[ 55  66  77  88  99 111]\n",
            "[11 22 33 44 55]\n",
            "[22 33 44]\n",
            "============================================\n",
            "[ 11  22  33 999 999 999  77  88  99 111]\n",
            "============================================\n",
            "[999 999 999]\n",
            "============================================\n",
            "[666 666 666]\n",
            "[ 11  22  33 666 666 666  77  88  99 111]\n",
            "============================================\n",
            "[666 666 666]\n",
            "[8080 8080 8080]\n",
            "[ 11  22  33 666 666 666  77  88  99 111]\n"
          ]
        }
      ]
    },
    {
      "cell_type": "markdown",
      "source": [
        "## Filtering an Array"
      ],
      "metadata": {
        "id": "ifM7GpRh7PRY"
      }
    },
    {
      "cell_type": "code",
      "source": [
        "# Rows = Datapoints\n",
        "# Columns = Features\n",
        "arr_2d = np.array([[11,22,33],[44,55,66],[77,88,99],[100,200,300]])\n",
        "print(arr_2d.shape) # The will be like this:  (number_of_row, number_of_columns)\n",
        "print(arr_2d[0,2])\n",
        "\n",
        "# Filtering an Array\n",
        "bool_array = arr_2d > 50\n",
        "print(\"My 2D Array:\\n\", arr_2d)\n",
        "print(\"Boolean Array:\\n\", bool_array)\n",
        "print(\"Filtered Array:\\n\", arr_2d[bool_array])\n",
        "print(\"Number of Items greater than 50:\\n\", len(arr_2d[bool_array]))"
      ],
      "metadata": {
        "id": "hPTkKm-LcgSB",
        "colab": {
          "base_uri": "https://localhost:8080/"
        },
        "outputId": "777491b9-80cb-4d64-a3ba-799d90e8b699"
      },
      "execution_count": 20,
      "outputs": [
        {
          "output_type": "stream",
          "name": "stdout",
          "text": [
            "(4, 3)\n",
            "33\n",
            "My 2D Array:\n",
            " [[ 11  22  33]\n",
            " [ 44  55  66]\n",
            " [ 77  88  99]\n",
            " [100 200 300]]\n",
            "Boolean Array:\n",
            " [[False False False]\n",
            " [False  True  True]\n",
            " [ True  True  True]\n",
            " [ True  True  True]]\n",
            "Filtered Array:\n",
            " [ 55  66  77  88  99 100 200 300]\n",
            "Number of Items greater than 50:\n",
            " 8\n"
          ]
        }
      ]
    },
    {
      "cell_type": "code",
      "source": [],
      "metadata": {
        "id": "lw8cP-MU8LJO"
      },
      "execution_count": 14,
      "outputs": []
    }
  ]
}