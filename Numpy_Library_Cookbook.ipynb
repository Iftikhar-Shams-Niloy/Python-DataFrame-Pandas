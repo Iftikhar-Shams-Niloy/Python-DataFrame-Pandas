{
  "nbformat": 4,
  "nbformat_minor": 0,
  "metadata": {
    "colab": {
      "provenance": [],
      "authorship_tag": "ABX9TyPWeaGl14OnnAvG7+fX88nh"
    },
    "kernelspec": {
      "name": "python3",
      "display_name": "Python 3"
    },
    "language_info": {
      "name": "python"
    }
  },
  "cells": [
    {
      "cell_type": "markdown",
      "source": [
        "# **<<< Numpy >>>**"
      ],
      "metadata": {
        "id": "KhWsoBItzTGq"
      }
    },
    {
      "cell_type": "code",
      "execution_count": 1,
      "metadata": {
        "id": "rnTvppcYtlOP"
      },
      "outputs": [],
      "source": [
        "# First we will import the numpy libary as np\n",
        "import numpy as np"
      ]
    },
    {
      "cell_type": "markdown",
      "source": [
        "## Making An Array\n"
      ],
      "metadata": {
        "id": "XHt9iKvSzjIH"
      }
    },
    {
      "cell_type": "code",
      "source": [
        "# First we define a list\n",
        "myList = [10,20,30,40,50]\n",
        "print(myList)\n",
        "type(myList)"
      ],
      "metadata": {
        "colab": {
          "base_uri": "https://localhost:8080/"
        },
        "id": "jjK3QgfIP5Kr",
        "outputId": "af2a279f-a925-4355-bc9f-a8cbd6065d66"
      },
      "execution_count": 5,
      "outputs": [
        {
          "output_type": "stream",
          "name": "stdout",
          "text": [
            "[10, 20, 30, 40, 50]\n"
          ]
        },
        {
          "output_type": "execute_result",
          "data": {
            "text/plain": [
              "list"
            ]
          },
          "metadata": {},
          "execution_count": 5
        }
      ]
    },
    {
      "cell_type": "code",
      "source": [
        "# Then we can convert the list into an array using np.array() method\n",
        "myArray = np.array(myList)\n",
        "print(myArray)\n",
        "print(type(myArray))"
      ],
      "metadata": {
        "colab": {
          "base_uri": "https://localhost:8080/"
        },
        "id": "buM_6D-ISyQO",
        "outputId": "a2280831-f25d-42c7-b722-427b8aa8de7d"
      },
      "execution_count": 7,
      "outputs": [
        {
          "output_type": "stream",
          "name": "stdout",
          "text": [
            "[10 20 30 40 50]\n",
            "<class 'numpy.ndarray'>\n"
          ]
        }
      ]
    },
    {
      "cell_type": "code",
      "source": [
        "# We can also convert a nested list into a 3D Matrix using np.array() method\n",
        "nested_list = [[11,22,33],[44,55,66],[77,88,99]]\n",
        "my_matrix = np.array(nested_list)\n",
        "print(np.array(my_matrix))\n",
        "print(type(my_matrix))"
      ],
      "metadata": {
        "colab": {
          "base_uri": "https://localhost:8080/"
        },
        "id": "AXgdoBWsS1UO",
        "outputId": "1f64e095-864f-4f80-dc87-28eb7d4425cf"
      },
      "execution_count": 9,
      "outputs": [
        {
          "output_type": "stream",
          "name": "stdout",
          "text": [
            "[[11 22 33]\n",
            " [44 55 66]\n",
            " [77 88 99]]\n",
            "<class 'numpy.ndarray'>\n"
          ]
        }
      ]
    },
    {
      "cell_type": "markdown",
      "source": [
        "### np.arange()"
      ],
      "metadata": {
        "id": "YX6gYXRxcpTJ"
      }
    },
    {
      "cell_type": "code",
      "source": [
        "# We can also generate n values of same differentce array using np.arange()\n",
        "myArange1 = np.arange(0,10) # np.arange(start, end)\n",
        "myArange2 = np. arange(0,101, 10) # np.arange(start, end, step)\n",
        "print(\"myArrange1 : \", myArange1)\n",
        "print(\"myArrange2 : \", myArange2)\n",
        "print(type(myArange1))"
      ],
      "metadata": {
        "colab": {
          "base_uri": "https://localhost:8080/"
        },
        "id": "-PGdEX2hVMWS",
        "outputId": "a8ede0e7-6cc3-4c27-df3a-7a0a89bf1838"
      },
      "execution_count": 12,
      "outputs": [
        {
          "output_type": "stream",
          "name": "stdout",
          "text": [
            "myArrange1 :  [0 1 2 3 4 5 6 7 8 9]\n",
            "myArrange2 :  [  0  10  20  30  40  50  60  70  80  90 100]\n",
            "<class 'numpy.ndarray'>\n"
          ]
        }
      ]
    },
    {
      "cell_type": "markdown",
      "source": [
        "### np.zeros() , np.ones() , np.eye()"
      ],
      "metadata": {
        "id": "0_WBhze6cvq5"
      }
    },
    {
      "cell_type": "code",
      "source": [
        "zeroArray1 = np.zeros(10)\n",
        "zeroArray2 = np.zeros((3,5)) # np.zeros((row, column))\n",
        "oneArray = np.ones((3,5))\n",
        "eyeArray = np.eye(5) # Creates identical matrix of \"n\" column and rows\n",
        "print(\"zeroArray1 : \\n\",zeroArray1)\n",
        "print(\"zeroArray2 : \\n\",zeroArray2)\n",
        "print(\"oneArray = \\n\",oneArray)\n",
        "print(\"eyeArray = \\n\", eyeArray)"
      ],
      "metadata": {
        "colab": {
          "base_uri": "https://localhost:8080/"
        },
        "id": "ucqPW7L3cJFK",
        "outputId": "03d992fa-4446-43c6-a796-06aeb04de736"
      },
      "execution_count": 22,
      "outputs": [
        {
          "output_type": "stream",
          "name": "stdout",
          "text": [
            "zeroArray1 : \n",
            " [0. 0. 0. 0. 0. 0. 0. 0. 0. 0.]\n",
            "zeroArray2 : \n",
            " [[0. 0. 0. 0. 0.]\n",
            " [0. 0. 0. 0. 0.]\n",
            " [0. 0. 0. 0. 0.]]\n",
            "oneArray = \n",
            " [[1. 1. 1. 1. 1.]\n",
            " [1. 1. 1. 1. 1.]\n",
            " [1. 1. 1. 1. 1.]]\n",
            "eyeArray = \n",
            " [[1. 0. 0. 0. 0.]\n",
            " [0. 1. 0. 0. 0.]\n",
            " [0. 0. 1. 0. 0.]\n",
            " [0. 0. 0. 1. 0.]\n",
            " [0. 0. 0. 0. 1.]]\n"
          ]
        }
      ]
    },
    {
      "cell_type": "markdown",
      "source": [
        "### np.linspace()"
      ],
      "metadata": {
        "id": "RGc7F82-ldaA"
      }
    },
    {
      "cell_type": "code",
      "source": [
        "myLinespace = np.linspace(0,10,11) # np.linespace(start, end, num_of_values)\n",
        "print(myLinespace)\n",
        "print(type(myLinespace)) # type of myLinespace\n",
        "print(type(myLinespace[0])) # type of each element of myLinespace"
      ],
      "metadata": {
        "colab": {
          "base_uri": "https://localhost:8080/"
        },
        "id": "tSBW3Y8_dHEe",
        "outputId": "b97128d6-1a4b-4141-adac-338f4ea91954"
      },
      "execution_count": 20,
      "outputs": [
        {
          "output_type": "stream",
          "name": "stdout",
          "text": [
            "[ 0.  1.  2.  3.  4.  5.  6.  7.  8.  9. 10.]\n",
            "<class 'numpy.ndarray'>\n",
            "<class 'numpy.float64'>\n"
          ]
        }
      ]
    },
    {
      "cell_type": "markdown",
      "source": [
        "### np.random"
      ],
      "metadata": {
        "id": "v5KngErUqvaT"
      }
    },
    {
      "cell_type": "code",
      "source": [
        "# np.random.rand() generates an array of random \"uniform distribution\"(from 0 to 1) of data\n",
        "myRandom1 = np.random.rand(10) # creates an 1D Array of 10 values\n",
        "myRandom2 = np.random.rand(5,2) #np.random.rand(number_of_rows, number_of_colums)\n",
        "\n",
        "# np.random.randn() generates an array of random \"standard normal distribution\" datas\n",
        "myRandom3 = np.random.randn(5,2)\n",
        "\n",
        "# np.random.randint() genrates an array of random integer numbers. (Can be 1D or Multi-dimentional)\n",
        "myRandom4 = np.random.randint(1,11) # Generates 'SINGELE' integer number between 1 to 10\n",
        "myRandom5 = np.random.randint(1,11,5) # Generates 5 random integer number between 1 to 10\n",
        "myRandom6 = np.random.randint(1,11,(3,5)) # Generates 2-rows and 3-columns of random integer number between 1 to 10\n",
        "\n",
        "print(myRandom1) # 1D array\n",
        "print(myRandom2)\n",
        "print(\"===============================\")\n",
        "print(myRandom3)\n",
        "print(\"===============================\")\n",
        "print(myRandom4)\n",
        "print(myRandom5)\n",
        "print(myRandom6)"
      ],
      "metadata": {
        "colab": {
          "base_uri": "https://localhost:8080/"
        },
        "id": "Fyx4yJGSlqd9",
        "outputId": "efe511da-c467-4e47-bea9-ce9673d16a94"
      },
      "execution_count": 32,
      "outputs": [
        {
          "output_type": "stream",
          "name": "stdout",
          "text": [
            "[0.76551775 0.63012444 0.79435563 0.75682307 0.34339847 0.32464837\n",
            " 0.12152236 0.72803258 0.77728084 0.4789075 ]\n",
            "[[0.22423997 0.35232987]\n",
            " [0.00187007 0.16824104]\n",
            " [0.09934266 0.44466068]\n",
            " [0.51339537 0.59394785]\n",
            " [0.90254519 0.91952913]]\n",
            "===============================\n",
            "[[ 0.65295098 -0.52508447]\n",
            " [-1.48872387  0.71762175]\n",
            " [-0.74769257 -0.70053284]\n",
            " [-1.60190198  0.07673065]\n",
            " [ 0.38816767 -0.77670233]]\n",
            "===============================\n",
            "10\n",
            "[2 8 2 7 5]\n",
            "[[ 9  2  3  1  4]\n",
            " [ 3  7  1  3 10]\n",
            " [ 7  9  2 10  8]]\n"
          ]
        }
      ]
    },
    {
      "cell_type": "code",
      "source": [],
      "metadata": {
        "id": "FOcUqQbCq-2R"
      },
      "execution_count": null,
      "outputs": []
    }
  ]
}